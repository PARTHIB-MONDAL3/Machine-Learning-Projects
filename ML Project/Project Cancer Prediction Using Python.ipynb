{
 "cells": [
  {
   "cell_type": "code",
   "execution_count": 2,
   "id": "7e3ba66f",
   "metadata": {},
   "outputs": [
    {
     "ename": "ImportError",
     "evalue": "cannot import name '_MissingValues' from 'sklearn.utils._param_validation' (C:\\Users\\parth\\anaconda3\\Lib\\site-packages\\sklearn\\utils\\_param_validation.py)",
     "output_type": "error",
     "traceback": [
      "\u001b[1;31m---------------------------------------------------------------------------\u001b[0m",
      "\u001b[1;31mImportError\u001b[0m                               Traceback (most recent call last)",
      "Cell \u001b[1;32mIn[2], line 28\u001b[0m\n\u001b[0;32m     26\u001b[0m \u001b[38;5;28;01mfrom\u001b[39;00m \u001b[38;5;21;01msklearn\u001b[39;00m\u001b[38;5;21;01m.\u001b[39;00m\u001b[38;5;21;01mmodel_selection\u001b[39;00m \u001b[38;5;28;01mimport\u001b[39;00m GridSearchCV\n\u001b[0;32m     27\u001b[0m \u001b[38;5;28;01mfrom\u001b[39;00m \u001b[38;5;21;01msklearn\u001b[39;00m\u001b[38;5;21;01m.\u001b[39;00m\u001b[38;5;21;01msvm\u001b[39;00m \u001b[38;5;28;01mimport\u001b[39;00m SVC\n\u001b[1;32m---> 28\u001b[0m \u001b[38;5;28;01mfrom\u001b[39;00m \u001b[38;5;21;01mimblearn\u001b[39;00m\u001b[38;5;21;01m.\u001b[39;00m\u001b[38;5;21;01mover_sampling\u001b[39;00m \u001b[38;5;28;01mimport\u001b[39;00m SMOTE\n\u001b[0;32m     29\u001b[0m \u001b[38;5;28;01mfrom\u001b[39;00m \u001b[38;5;21;01mxgboost\u001b[39;00m \u001b[38;5;28;01mimport\u001b[39;00m XGBClassifier\n\u001b[0;32m     30\u001b[0m \u001b[38;5;28;01mimport\u001b[39;00m \u001b[38;5;21;01mpickle\u001b[39;00m\n",
      "File \u001b[1;32m~\\anaconda3\\Lib\\site-packages\\imblearn\\__init__.py:52\u001b[0m\n\u001b[0;32m     48\u001b[0m     sys\u001b[38;5;241m.\u001b[39mstderr\u001b[38;5;241m.\u001b[39mwrite(\u001b[38;5;124m\"\u001b[39m\u001b[38;5;124mPartial import of imblearn during the build process.\u001b[39m\u001b[38;5;130;01m\\n\u001b[39;00m\u001b[38;5;124m\"\u001b[39m)\n\u001b[0;32m     49\u001b[0m     \u001b[38;5;66;03m# We are not importing the rest of scikit-learn during the build\u001b[39;00m\n\u001b[0;32m     50\u001b[0m     \u001b[38;5;66;03m# process, as it may not be compiled yet\u001b[39;00m\n\u001b[0;32m     51\u001b[0m \u001b[38;5;28;01melse\u001b[39;00m:\n\u001b[1;32m---> 52\u001b[0m     \u001b[38;5;28;01mfrom\u001b[39;00m \u001b[38;5;21;01m.\u001b[39;00m \u001b[38;5;28;01mimport\u001b[39;00m (\n\u001b[0;32m     53\u001b[0m         combine,\n\u001b[0;32m     54\u001b[0m         ensemble,\n\u001b[0;32m     55\u001b[0m         exceptions,\n\u001b[0;32m     56\u001b[0m         metrics,\n\u001b[0;32m     57\u001b[0m         over_sampling,\n\u001b[0;32m     58\u001b[0m         pipeline,\n\u001b[0;32m     59\u001b[0m         tensorflow,\n\u001b[0;32m     60\u001b[0m         under_sampling,\n\u001b[0;32m     61\u001b[0m         utils,\n\u001b[0;32m     62\u001b[0m     )\n\u001b[0;32m     63\u001b[0m     \u001b[38;5;28;01mfrom\u001b[39;00m \u001b[38;5;21;01m.\u001b[39;00m\u001b[38;5;21;01m_version\u001b[39;00m \u001b[38;5;28;01mimport\u001b[39;00m __version__\n\u001b[0;32m     64\u001b[0m     \u001b[38;5;28;01mfrom\u001b[39;00m \u001b[38;5;21;01m.\u001b[39;00m\u001b[38;5;21;01mbase\u001b[39;00m \u001b[38;5;28;01mimport\u001b[39;00m FunctionSampler\n",
      "File \u001b[1;32m~\\anaconda3\\Lib\\site-packages\\imblearn\\combine\\__init__.py:5\u001b[0m\n\u001b[0;32m      1\u001b[0m \u001b[38;5;124;03m\"\"\"The :mod:`imblearn.combine` provides methods which combine\u001b[39;00m\n\u001b[0;32m      2\u001b[0m \u001b[38;5;124;03mover-sampling and under-sampling.\u001b[39;00m\n\u001b[0;32m      3\u001b[0m \u001b[38;5;124;03m\"\"\"\u001b[39;00m\n\u001b[1;32m----> 5\u001b[0m \u001b[38;5;28;01mfrom\u001b[39;00m \u001b[38;5;21;01m.\u001b[39;00m\u001b[38;5;21;01m_smote_enn\u001b[39;00m \u001b[38;5;28;01mimport\u001b[39;00m SMOTEENN\n\u001b[0;32m      6\u001b[0m \u001b[38;5;28;01mfrom\u001b[39;00m \u001b[38;5;21;01m.\u001b[39;00m\u001b[38;5;21;01m_smote_tomek\u001b[39;00m \u001b[38;5;28;01mimport\u001b[39;00m SMOTETomek\n\u001b[0;32m      8\u001b[0m __all__ \u001b[38;5;241m=\u001b[39m [\u001b[38;5;124m\"\u001b[39m\u001b[38;5;124mSMOTEENN\u001b[39m\u001b[38;5;124m\"\u001b[39m, \u001b[38;5;124m\"\u001b[39m\u001b[38;5;124mSMOTETomek\u001b[39m\u001b[38;5;124m\"\u001b[39m]\n",
      "File \u001b[1;32m~\\anaconda3\\Lib\\site-packages\\imblearn\\combine\\_smote_enn.py:12\u001b[0m\n\u001b[0;32m      9\u001b[0m \u001b[38;5;28;01mfrom\u001b[39;00m \u001b[38;5;21;01msklearn\u001b[39;00m\u001b[38;5;21;01m.\u001b[39;00m\u001b[38;5;21;01mbase\u001b[39;00m \u001b[38;5;28;01mimport\u001b[39;00m clone\n\u001b[0;32m     10\u001b[0m \u001b[38;5;28;01mfrom\u001b[39;00m \u001b[38;5;21;01msklearn\u001b[39;00m\u001b[38;5;21;01m.\u001b[39;00m\u001b[38;5;21;01mutils\u001b[39;00m \u001b[38;5;28;01mimport\u001b[39;00m check_X_y\n\u001b[1;32m---> 12\u001b[0m \u001b[38;5;28;01mfrom\u001b[39;00m \u001b[38;5;21;01m.\u001b[39;00m\u001b[38;5;21;01m.\u001b[39;00m\u001b[38;5;21;01mbase\u001b[39;00m \u001b[38;5;28;01mimport\u001b[39;00m BaseSampler\n\u001b[0;32m     13\u001b[0m \u001b[38;5;28;01mfrom\u001b[39;00m \u001b[38;5;21;01m.\u001b[39;00m\u001b[38;5;21;01m.\u001b[39;00m\u001b[38;5;21;01mover_sampling\u001b[39;00m \u001b[38;5;28;01mimport\u001b[39;00m SMOTE\n\u001b[0;32m     14\u001b[0m \u001b[38;5;28;01mfrom\u001b[39;00m \u001b[38;5;21;01m.\u001b[39;00m\u001b[38;5;21;01m.\u001b[39;00m\u001b[38;5;21;01mover_sampling\u001b[39;00m\u001b[38;5;21;01m.\u001b[39;00m\u001b[38;5;21;01mbase\u001b[39;00m \u001b[38;5;28;01mimport\u001b[39;00m BaseOverSampler\n",
      "File \u001b[1;32m~\\anaconda3\\Lib\\site-packages\\imblearn\\base.py:21\u001b[0m\n\u001b[0;32m     18\u001b[0m \u001b[38;5;28;01mfrom\u001b[39;00m \u001b[38;5;21;01msklearn\u001b[39;00m\u001b[38;5;21;01m.\u001b[39;00m\u001b[38;5;21;01mutils\u001b[39;00m\u001b[38;5;21;01m.\u001b[39;00m\u001b[38;5;21;01mmulticlass\u001b[39;00m \u001b[38;5;28;01mimport\u001b[39;00m check_classification_targets\n\u001b[0;32m     20\u001b[0m \u001b[38;5;28;01mfrom\u001b[39;00m \u001b[38;5;21;01m.\u001b[39;00m\u001b[38;5;21;01mutils\u001b[39;00m \u001b[38;5;28;01mimport\u001b[39;00m check_sampling_strategy, check_target_type\n\u001b[1;32m---> 21\u001b[0m \u001b[38;5;28;01mfrom\u001b[39;00m \u001b[38;5;21;01m.\u001b[39;00m\u001b[38;5;21;01mutils\u001b[39;00m\u001b[38;5;21;01m.\u001b[39;00m\u001b[38;5;21;01m_param_validation\u001b[39;00m \u001b[38;5;28;01mimport\u001b[39;00m validate_parameter_constraints\n\u001b[0;32m     22\u001b[0m \u001b[38;5;28;01mfrom\u001b[39;00m \u001b[38;5;21;01m.\u001b[39;00m\u001b[38;5;21;01mutils\u001b[39;00m\u001b[38;5;21;01m.\u001b[39;00m\u001b[38;5;21;01m_validation\u001b[39;00m \u001b[38;5;28;01mimport\u001b[39;00m ArraysTransformer\n\u001b[0;32m     25\u001b[0m \u001b[38;5;28;01mclass\u001b[39;00m \u001b[38;5;21;01mSamplerMixin\u001b[39;00m(BaseEstimator, metaclass\u001b[38;5;241m=\u001b[39mABCMeta):\n",
      "File \u001b[1;32m~\\anaconda3\\Lib\\site-packages\\imblearn\\utils\\_param_validation.py:908\u001b[0m\n\u001b[0;32m    906\u001b[0m \u001b[38;5;28;01mfrom\u001b[39;00m \u001b[38;5;21;01msklearn\u001b[39;00m\u001b[38;5;21;01m.\u001b[39;00m\u001b[38;5;21;01mutils\u001b[39;00m\u001b[38;5;21;01m.\u001b[39;00m\u001b[38;5;21;01m_param_validation\u001b[39;00m \u001b[38;5;28;01mimport\u001b[39;00m generate_valid_param  \u001b[38;5;66;03m# noqa\u001b[39;00m\n\u001b[0;32m    907\u001b[0m \u001b[38;5;28;01mfrom\u001b[39;00m \u001b[38;5;21;01msklearn\u001b[39;00m\u001b[38;5;21;01m.\u001b[39;00m\u001b[38;5;21;01mutils\u001b[39;00m\u001b[38;5;21;01m.\u001b[39;00m\u001b[38;5;21;01m_param_validation\u001b[39;00m \u001b[38;5;28;01mimport\u001b[39;00m validate_parameter_constraints  \u001b[38;5;66;03m# noqa\u001b[39;00m\n\u001b[1;32m--> 908\u001b[0m \u001b[38;5;28;01mfrom\u001b[39;00m \u001b[38;5;21;01msklearn\u001b[39;00m\u001b[38;5;21;01m.\u001b[39;00m\u001b[38;5;21;01mutils\u001b[39;00m\u001b[38;5;21;01m.\u001b[39;00m\u001b[38;5;21;01m_param_validation\u001b[39;00m \u001b[38;5;28;01mimport\u001b[39;00m (\n\u001b[0;32m    909\u001b[0m     HasMethods,\n\u001b[0;32m    910\u001b[0m     Hidden,\n\u001b[0;32m    911\u001b[0m     Interval,\n\u001b[0;32m    912\u001b[0m     Options,\n\u001b[0;32m    913\u001b[0m     StrOptions,\n\u001b[0;32m    914\u001b[0m     _ArrayLikes,\n\u001b[0;32m    915\u001b[0m     _Booleans,\n\u001b[0;32m    916\u001b[0m     _Callables,\n\u001b[0;32m    917\u001b[0m     _CVObjects,\n\u001b[0;32m    918\u001b[0m     _InstancesOf,\n\u001b[0;32m    919\u001b[0m     _IterablesNotString,\n\u001b[0;32m    920\u001b[0m     _MissingValues,\n\u001b[0;32m    921\u001b[0m     _NoneConstraint,\n\u001b[0;32m    922\u001b[0m     _PandasNAConstraint,\n\u001b[0;32m    923\u001b[0m     _RandomStates,\n\u001b[0;32m    924\u001b[0m     _SparseMatrices,\n\u001b[0;32m    925\u001b[0m     _VerboseHelper,\n\u001b[0;32m    926\u001b[0m     make_constraint,\n\u001b[0;32m    927\u001b[0m     validate_params,\n\u001b[0;32m    928\u001b[0m )\n",
      "\u001b[1;31mImportError\u001b[0m: cannot import name '_MissingValues' from 'sklearn.utils._param_validation' (C:\\Users\\parth\\anaconda3\\Lib\\site-packages\\sklearn\\utils\\_param_validation.py)"
     ]
    }
   ],
   "source": [
    "#                                              Cancer Prediction System\n",
    "\n",
    "\n",
    "\n",
    "# Importing Libraries\n",
    "\n",
    "import numpy as np\n",
    "import pandas as pd\n",
    "from sklearn.metrics.pairwise import cosine_similarity\n",
    "import os\n",
    "import matplotlib.pyplot as plt\n",
    "import seaborn as sns\n",
    "import seaborn as s\n",
    "from matplotlib import style\n",
    "from sklearn import model_selection\n",
    "from sklearn.model_selection import train_test_split\n",
    "from sklearn.model_selection import KFold\n",
    "from sklearn.model_selection import cross_val_score\n",
    "from sklearn.ensemble import RandomForestClassifier\n",
    "from sklearn import metrics\n",
    "from sklearn.metrics import confusion_matrix, classification_report, accuracy_score\n",
    "from sklearn import svm\n",
    "import matplotlib.pyplot as p\n",
    "from sklearn.preprocessing import StandardScaler, LabelEncoder\n",
    "#optimum parameter choosing \n",
    "from sklearn.model_selection import GridSearchCV\n",
    "from sklearn.svm import SVC\n",
    "from imblearn.over_sampling import SMOTE\n",
    "from xgboost import XGBClassifier\n",
    "import pickle\n",
    "import warnings\n",
    "warnings.filterwarnings('ignore')\n",
    "\n",
    "# Loading Data Set\n",
    "\n",
    "# Reading the data csv file\n",
    "\n",
    "Data = pd.read_csv(\"data.csv\") \n",
    "\n",
    "# Making a copy of original data and \n",
    "\n",
    "ds = Data.copy()\n",
    "print(ds)\n",
    "print(Data.head(2))\n",
    "print(Data.info())\n",
    "print(Data.describe())\n",
    "\n",
    "# Print the whole data from the cvc file\n",
    "\n",
    "print(Data)"
   ]
  },
  {
   "cell_type": "code",
   "execution_count": null,
   "id": "a72cdf31",
   "metadata": {},
   "outputs": [],
   "source": [
    "# Print the shape of the file\n",
    "\n",
    "display(Data.shape)"
   ]
  },
  {
   "cell_type": "code",
   "execution_count": null,
   "id": "649c679b",
   "metadata": {},
   "outputs": [],
   "source": [
    "# Printing the number of B and M\n",
    "\n",
    "display(Data[\"diagnosis\"].value_counts())"
   ]
  },
  {
   "cell_type": "code",
   "execution_count": null,
   "id": "ac1b3b4e",
   "metadata": {},
   "outputs": [],
   "source": [
    "# Print the the datatype of the columns\n",
    "\n",
    "display(Data.dtypes)"
   ]
  },
  {
   "cell_type": "code",
   "execution_count": null,
   "id": "3e86f664",
   "metadata": {},
   "outputs": [],
   "source": [
    "# Creating X variable with out diagnosis column\n",
    "\n",
    "x = Data.drop(labels= \"diagnosis\" , axis= 1)\n",
    "x "
   ]
  },
  {
   "cell_type": "code",
   "execution_count": null,
   "id": "d5802633",
   "metadata": {},
   "outputs": [],
   "source": [
    "# Creating Y variable (diagnosis)\n",
    "\n",
    "y = Data[\"diagnosis\"]\n",
    "y "
   ]
  },
  {
   "cell_type": "code",
   "execution_count": null,
   "id": "d2e786ed",
   "metadata": {},
   "outputs": [],
   "source": [
    "# Extracting all column names \n",
    "\n",
    "col = x. columns\n",
    "col"
   ]
  },
  {
   "cell_type": "code",
   "execution_count": null,
   "id": "6226ca41",
   "metadata": {},
   "outputs": [],
   "source": [
    "# Checking for null values \n",
    "\n",
    "x.isnull().sum()"
   ]
  },
  {
   "cell_type": "code",
   "execution_count": null,
   "id": "520642f1",
   "metadata": {},
   "outputs": [],
   "source": [
    "# Normalization \n",
    "\n",
    "ds_norm = (x- x.mean()) / (x.max()- x.min())\n",
    "ds_norm= pd.concat ([ds_norm,y], axis =1 )\n",
    "ds_norm"
   ]
  },
  {
   "cell_type": "code",
   "execution_count": null,
   "id": "990d3721",
   "metadata": {},
   "outputs": [],
   "source": [
    "# Printing Co relation \n",
    "\n",
    "ds.drop('diagnosis',axis =1).drop('id',axis =1).corr()"
   ]
  },
  {
   "cell_type": "code",
   "execution_count": null,
   "id": "65a4a9b7",
   "metadata": {},
   "outputs": [],
   "source": [
    "# Heat map with co relation \n",
    "\n",
    "plt.rcParams['figure.figsize']=(20,14)\n",
    "s.set(font_scale=1.5)\n",
    "\n",
    "# In co relation 1 is the highest and -1 is lowest\n",
    "\n",
    "s.heatmap (ds.drop('diagnosis',axis =1).drop('id',axis =1).corr(),cmap = 'coolwarm',annot = True)"
   ]
  },
  {
   "cell_type": "code",
   "execution_count": null,
   "id": "fa91c6e9",
   "metadata": {},
   "outputs": [],
   "source": [
    "ds = Data.copy()\n",
    "style.use(\"ggplot\")\n",
    "\n",
    "# Creating box plot for diagnosis columns in respect to M and B\n",
    "\n",
    "plt.rcParams['figure.figsize']=(20,8)\n",
    "f , (ax1 , ax2 , ax3 , ax4 , ax5) = plt.subplots(1 , 5)\n",
    "\n",
    "s.boxplot(\"diagnosis\" , y= \"radius_mean\" , data= ds , ax= ax1)\n",
    "s.boxplot(\"diagnosis\" , y= \"perimeter_mean\" , data= ds ,ax= ax2)\n",
    "s.boxplot(\"diagnosis\" , y= \"smoothness_mean\" , data= ds ,ax= ax3)\n",
    "s.boxplot(\"diagnosis\" , y= \"symmetry_mean\" , data= ds ,ax= ax4)\n",
    "s.boxplot(\"diagnosis\" , y= \"concavity_mean\" , data= ds , ax= ax5)\n",
    "f .tight_layout()\n",
    "\n",
    "plt.show()"
   ]
  },
  {
   "cell_type": "code",
   "execution_count": null,
   "id": "e275926b",
   "metadata": {},
   "outputs": [],
   "source": [
    "g = sns.FacetGrid(ds , col = \"diagnosis\" , hue = \"diagnosis\")\n",
    "g.map(sns.distplot , \"radius_mean\" , hist = False)\n",
    "g = sns.FacetGrid(ds , col = \"diagnosis\" , hue = \"diagnosis\")\n",
    "g.map(sns.distplot , \"perimeter_mean\" , hist = False)\n",
    "g = sns.FacetGrid(ds , col = \"diagnosis\" , hue = \"diagnosis\")\n",
    "g.map(sns.distplot , \"smoothness_mean\" , hist = False)\n",
    "g = sns.FacetGrid(ds , col = \"diagnosis\" , hue = \"diagnosis\")\n",
    "g.map(sns.distplot , \"symmetry_mean\" , hist = False)\n",
    "g = sns.FacetGrid(ds , col = \"diagnosis\" , hue = \"diagnosis\")\n",
    "g.map(sns.distplot , \"concavity_mean\" , hist = False)\n",
    "\n",
    "plt.show()"
   ]
  },
  {
   "cell_type": "code",
   "execution_count": null,
   "id": "deb1a6bc",
   "metadata": {},
   "outputs": [],
   "source": [
    "# Box plot for diagnosis columns in respect to M and B\n",
    "\n",
    "plt.rcParams[\"figure.figsize\"] = (20 , 8)\n",
    "\n",
    "f , (ax1 , ax2 , ax3 , ax4 , ax5) = plt.subplots(1 , 5)\n",
    "\n",
    "sns.boxplot(\"diagnosis\" , y= \"radius_se\" , data= ds , ax = ax1)\n",
    "sns.boxplot(\"diagnosis\" , y= \"perimeter_se\" , data= ds , ax = ax2)\n",
    "sns.boxplot(\"diagnosis\" , y= \"smoothness_se\" , data= ds , ax= ax3)\n",
    "sns.boxplot(\"diagnosis\" , y= \"concavity_se\" , data= ds , ax= ax4)\n",
    "sns.boxplot(\"diagnosis\" , y= \"symmetry_se\" , data= ds , ax= ax5)\n",
    "\n",
    "\n",
    "plt.show()"
   ]
  },
  {
   "cell_type": "code",
   "execution_count": null,
   "id": "9fdff61b",
   "metadata": {},
   "outputs": [],
   "source": [
    "x_norm = ds_norm.drop(labels= \"diagnosis\" , axis= 1)\n",
    "y_norm = ds_norm[\"diagnosis\"]\n",
    "columns = x_norm.columns\n",
    "\n",
    "print(x_norm)\n",
    "print(y_norm)\n",
    "print(columns)"
   ]
  },
  {
   "cell_type": "code",
   "execution_count": null,
   "id": "b571322f",
   "metadata": {},
   "outputs": [],
   "source": [
    "# Implementing Label Encoding function\n",
    "\n",
    "lb = LabelEncoder()\n",
    "y_norm = lb.fit_transform(y_norm)\n",
    "display(y_norm)"
   ]
  },
  {
   "cell_type": "code",
   "execution_count": null,
   "id": "eaf4297b",
   "metadata": {},
   "outputs": [],
   "source": [
    "# Implementing SVC module\n",
    "\n",
    "x_train , x_test , y_train , y_test = train_test_split(x_norm , y_norm , test_size= 0.2 , random_state= 10)\n",
    "\n",
    "param = { 'C': [0.1,1,100,1000],'gamma':[0.0001,0.001, 0.005, 0.1,1, 3,5,10, 100] }\n",
    "\n",
    "grid = GridSearchCV(estimator= SVC() , param_grid = param , cv = 5 , scoring= \"accuracy\" , verbose= 1 , n_jobs= -1)\n",
    "\n",
    "grid_result = grid.fit(x_train , y_train)\n",
    "\n",
    "best_param = grid_result.best_params_\n",
    "\n",
    "predict = grid_result.predict(x_test)\n",
    "\n",
    "confu = confusion_matrix(y_test , predict)\n",
    "\n",
    "print(\"Grid Result\",grid_result)\n",
    "print(\"Best Param\",best_param)\n",
    "print(\"Predict\",predict)\n",
    "print ('Accuracy Score',(accuracy_score(y_test,predict)))\n",
    "print(\"Confusion\",confu)"
   ]
  },
  {
   "cell_type": "code",
   "execution_count": null,
   "id": "72bd576a",
   "metadata": {},
   "outputs": [],
   "source": [
    "# RandomForestClassifier\n",
    "\n",
    "x_train , x_test , y_train , y_test = train_test_split(x_norm , y_norm , test_size = 0.2 , random_state= 10)\n",
    "\n",
    "param = {'n_estimators': [100,500,1000,2000]}\n",
    "\n",
    "grid = GridSearchCV(estimator= RandomForestClassifier() , param_grid= param , cv = 10 , scoring= \"accuracy\" , verbose= 1 , n_jobs= -1)\n",
    "\n",
    "grid_result = grid.fit(x_train , y_train)\n",
    "best_param = grid_result.best_params_\n",
    "prediction = grid_result.predict(x_test)\n",
    "confu = confusion_matrix(y_test , prediction)\n",
    "\n",
    "print(\"Grid Result\",grid_result)\n",
    "print(\"Best Param\",best_param)\n",
    "print(\"Predict\",predict)\n",
    "print ('Accuracy Score',(accuracy_score(y_test,predict)))\n",
    "print(\"Confusion\",confu)"
   ]
  },
  {
   "cell_type": "code",
   "execution_count": null,
   "id": "d4fccfeb",
   "metadata": {},
   "outputs": [],
   "source": [
    "indices = sorted(ds)\n",
    "data1 = pd.DataFrame(indices)\n",
    "print(data1)"
   ]
  },
  {
   "cell_type": "code",
   "execution_count": null,
   "id": "d9302bf8",
   "metadata": {},
   "outputs": [],
   "source": [
    "# seaborn bargraph using indexes\n",
    "\n",
    "x_train,x_test, y_train,y_test = train_test_split (x_norm,y_norm,test_size = 0.5 , random_state= 10)\n",
    "\n",
    "forest = RandomForestClassifier(n_estimators= 550)\n",
    "fit = forest.fit(x_train , y_train)\n",
    "\n",
    "important = forest.feature_importances_\n",
    "indices = np.argsort(important)[::-1]\n",
    "\n",
    "imp = pd.DataFrame({\"Feature\": list(x) , \"Gini importance\": important[indices]})\n",
    "plt.rcParams[\"figure.figsize\"] = (14 , 14)\n",
    "\n",
    "sns.barplot(x = \"Gini importance\" , y = \"Feature\" , data= imp)\n",
    "\n",
    "plt.show()"
   ]
  },
  {
   "cell_type": "code",
   "execution_count": null,
   "id": "4db98d02",
   "metadata": {},
   "outputs": [],
   "source": [
    "# data analyze using xgboost library\n",
    "\n",
    "x_train , x_test , y_train , y_test = train_test_split(x_norm , y_norm , test_size= 0.5 , random_state= 10)\n",
    "\n",
    "param = {'n_estimators': [100,500,1000,2000]}\n",
    "\n",
    "grid = GridSearchCV(estimator= XGBClassifier(), param_grid = param , cv = 10 , verbose= 1 , n_jobs= -1)\n",
    "\n",
    "grid_result = grid.fit(x_train , y_train)\n",
    "best_param = grid_result.best_params_\n",
    "prediction = grid_result.predict(x_test)\n",
    "confu = confusion_matrix(y_test , prediction)\n",
    "accuracy = grid_result.score(x_test , y_test)\n",
    "\n",
    "print(\"Grid Result\",grid_result)\n",
    "print(\"Best Param\",best_param)\n",
    "print(\"Predict\",predict)\n",
    "print ('Accuracy Score',accuracy)\n",
    "print(\"Confusion\",confu)"
   ]
  },
  {
   "cell_type": "code",
   "execution_count": null,
   "id": "828cdb4e",
   "metadata": {},
   "outputs": [],
   "source": [
    "# using imblearn library function\n",
    "\n",
    "ds['diagnosis'].value_counts()\n",
    "sm = SMOTE(random_state= 10)\n",
    "x_res , y_res = sm.fit_resample(x_norm , y_norm)\n",
    "\n",
    "print(y_res)"
   ]
  },
  {
   "cell_type": "code",
   "execution_count": null,
   "id": "3d8d8cd9",
   "metadata": {},
   "outputs": [],
   "source": [
    "# Using RandomForest in imblearn\n",
    "\n",
    "x_train , x_test , y_train , y_test = train_test_split(x_res , y_res , test_size= 0.5 , random_state= 10)\n",
    "param = {'n_estimators': [100,500,1000,2000]}\n",
    "\n",
    "grid = GridSearchCV(estimator= RandomForestClassifier() , param_grid= param , cv = 10 , verbose= 1 , n_jobs= -1)\n",
    "\n",
    "grid_result = grid.fit(x_train , y_train)\n",
    "best_param = grid_result.best_params_\n",
    "prediction = grid_result.predict(x_test)\n",
    "confu = confusion_matrix(y_test , prediction)\n",
    "accuracy = grid_result.score(x_test , y_test)\n",
    "\n",
    "print(\"Grid Result\",grid_result)\n",
    "print(\"Best Param\",best_param)\n",
    "print(\"Predict\",predict)\n",
    "print ('Accuracy Score',accuracy)\n",
    "print(\"Confusion\",confu)"
   ]
  },
  {
   "cell_type": "code",
   "execution_count": null,
   "id": "2c8fb4cd",
   "metadata": {},
   "outputs": [],
   "source": [
    "# Use xgboost in imbleran\n",
    "\n",
    "x_train , x_test , y_train , y_test = train_test_split(x_res , y_res , test_size= 0.5 , random_state= 10)\n",
    "param = {'n_estimators': [100,500,1000,2000]}\n",
    "\n",
    "grid = GridSearchCV(estimator= XGBClassifier() , param_grid= param , cv = 10 , verbose= 1 , n_jobs= -1)\n",
    "\n",
    "grid_result = grid.fit(x_train , y_train)\n",
    "best_param = grid_result.best_params_\n",
    "prediction = grid_result.predict(x_test)\n",
    "confu = confusion_matrix(y_test , prediction)\n",
    "accuracy = grid_result.score(x_test , y_test)\n",
    "\n",
    "print(\"Grid Result\",grid_result)\n",
    "print(\"Best Param\",best_param)\n",
    "print(\"Predict\",predict)\n",
    "print ('Accuracy Score',accuracy)\n",
    "print(\"Confusion\",confu)"
   ]
  },
  {
   "cell_type": "code",
   "execution_count": null,
   "id": "10ec9e18",
   "metadata": {},
   "outputs": [],
   "source": [
    "print((ds.columns))"
   ]
  }
 ],
 "metadata": {
  "kernelspec": {
   "display_name": "Python 3 (ipykernel)",
   "language": "python",
   "name": "python3"
  },
  "language_info": {
   "codemirror_mode": {
    "name": "ipython",
    "version": 3
   },
   "file_extension": ".py",
   "mimetype": "text/x-python",
   "name": "python",
   "nbconvert_exporter": "python",
   "pygments_lexer": "ipython3",
   "version": "3.11.5"
  }
 },
 "nbformat": 4,
 "nbformat_minor": 5
}
